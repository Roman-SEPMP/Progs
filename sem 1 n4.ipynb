{
 "cells": [
  {
   "cell_type": "code",
   "execution_count": 5,
   "id": "7f42ee6f",
   "metadata": {},
   "outputs": [],
   "source": [
    "# task 4\n",
    "f = open('input.txt', 'r')\n",
    "number = f.readline()\n",
    "number = list(map(int, number.split()))\n",
    "oper = f.readline(2)\n",
    "\n",
    "if oper == '+\\n':\n",
    "    ans = sum(number)\n",
    "\n",
    "elif oper == '*\\n':\n",
    "    ans=1\n",
    "    for i in number:\n",
    "        ans*=i\n",
    "\n",
    "else:\n",
    "    ans = sum(number) * (-1)\n",
    "\n",
    "f = open('output.txt', 'w')\n",
    "ans = str(ans)\n",
    "f.write(ans)\n",
    "f.close()\n"
   ]
  }
 ],
 "metadata": {
  "kernelspec": {
   "display_name": "Python 3",
   "language": "python",
   "name": "python3"
  },
  "language_info": {
   "codemirror_mode": {
    "name": "ipython",
    "version": 3
   },
   "file_extension": ".py",
   "mimetype": "text/x-python",
   "name": "python",
   "nbconvert_exporter": "python",
   "pygments_lexer": "ipython3",
   "version": "3.13.6"
  }
 },
 "nbformat": 4,
 "nbformat_minor": 5
}
